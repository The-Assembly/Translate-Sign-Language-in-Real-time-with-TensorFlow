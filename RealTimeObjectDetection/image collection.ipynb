{
 "cells": [
  {
   "cell_type": "code",
   "execution_count": 1,
   "metadata": {},
   "outputs": [],
   "source": [
    "import cv2\n",
    "import uuid\n",
    "import os\n",
    "import time"
   ]
  },
  {
   "cell_type": "code",
   "execution_count": 2,
   "metadata": {},
   "outputs": [],
   "source": [
    "IMAGES_PATH = 'TensorFlow/workspace/images/collectedimages'\n",
    "\n",
    "labels = ['hello', 'iloveyou', 'yes', 'no']\n",
    "thanks_label = ['thanks']"
   ]
  },
  {
   "cell_type": "code",
   "execution_count": 3,
   "metadata": {},
   "outputs": [],
   "source": [
    "number_imgs = 25"
   ]
  },
  {
   "cell_type": "code",
   "execution_count": 9,
   "metadata": {},
   "outputs": [],
   "source": [
    "cap = cv2.VideoCapture(0)"
   ]
  },
  {
   "cell_type": "code",
   "execution_count": 10,
   "metadata": {},
   "outputs": [
    {
     "name": "stdout",
     "output_type": "stream",
     "text": [
      "Collecting images for thanks\n",
      "Saved, 24 left for thanks\n",
      "Saved, 23 left for thanks\n",
      "Saved, 22 left for thanks\n",
      "Saved, 21 left for thanks\n",
      "Saved, 20 left for thanks\n",
      "Saved, 19 left for thanks\n",
      "Saved, 18 left for thanks\n",
      "Saved, 17 left for thanks\n",
      "Saved, 16 left for thanks\n",
      "Saved, 15 left for thanks\n",
      "Saved, 14 left for thanks\n",
      "Saved, 13 left for thanks\n",
      "Saved, 12 left for thanks\n",
      "Saved, 11 left for thanks\n",
      "Saved, 10 left for thanks\n",
      "Saved, 9 left for thanks\n",
      "Saved, 8 left for thanks\n",
      "Saved, 7 left for thanks\n",
      "Saved, 6 left for thanks\n",
      "Saved, 5 left for thanks\n",
      "Saved, 4 left for thanks\n",
      "Saved, 3 left for thanks\n",
      "Saved, 2 left for thanks\n",
      "Saved, 1 left for thanks\n"
     ]
    }
   ],
   "source": [
    "for label in thanks_label:\n",
    "    num_images_for_label = number_imgs\n",
    "    print('Collecting images for {}'.format(label))\n",
    "    \n",
    "    # making new directories to save our images\n",
    "    !mkdir {'TensorFlow\\workspace\\images\\collectedimages\\\\' +label}\n",
    "    \n",
    "    while True:\n",
    "        ret, frame = cap.read()\n",
    "        cv2.imshow('frame', frame)\n",
    "        \n",
    "        time.sleep(3)\n",
    "            \n",
    "        imgname = os.path.join(IMAGES_PATH, label, label+'.'+'{}.jpg'.format(str(uuid.uuid1())))\n",
    "            \n",
    "        write_status = cv2.imwrite(imgname, frame)\n",
    "            \n",
    "        num_images_for_label -= 1\n",
    "            \n",
    "        if num_images_for_label != 0 and write_status == True:\n",
    "           print('Saved, {} left for {}'.format(num_images_for_label, label))\n",
    "           time.sleep(3)\n",
    "        if (cv2.waitKey(1) & 0xFF == ord('q')) or num_images_for_label == 0:\n",
    "            break\n",
    "                \n",
    "cv2.destroyAllWindows()\n",
    "cap.release()\n",
    "        \n",
    "        \n",
    "        \n",
    "        \n",
    "        \n",
    "        \n",
    "        \n",
    "        \n",
    "        "
   ]
  },
  {
   "cell_type": "code",
   "execution_count": null,
   "metadata": {},
   "outputs": [],
   "source": []
  }
 ],
 "metadata": {
  "kernelspec": {
   "display_name": "Python 3",
   "language": "python",
   "name": "python3"
  },
  "language_info": {
   "codemirror_mode": {
    "name": "ipython",
    "version": 3
   },
   "file_extension": ".py",
   "mimetype": "text/x-python",
   "name": "python",
   "nbconvert_exporter": "python",
   "pygments_lexer": "ipython3",
   "version": "3.7.3"
  }
 },
 "nbformat": 4,
 "nbformat_minor": 2
}
